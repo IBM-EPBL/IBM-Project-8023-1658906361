{
  "cells": [
    {
      "cell_type": "code",
      "source": [
        "PRIYA SOWMIYA"
      ],
      "metadata": {
        "id": "QB7UpLbCzTte"
      },
      "id": "QB7UpLbCzTte",
      "execution_count": null,
      "outputs": []
    },
    {
      "cell_type": "code",
      "execution_count": null,
      "id": "459862a7",
      "metadata": {
        "id": "459862a7"
      },
      "outputs": [],
      "source": [
        "from tensorflow.keras.models import Sequential\n",
        "from tensorflow.keras.layers import Dense"
      ]
    },
    {
      "cell_type": "code",
      "execution_count": null,
      "id": "9e544b88",
      "metadata": {
        "id": "9e544b88"
      },
      "outputs": [],
      "source": [
        "from tensorflow.keras.layers import Convolution2D\n",
        "from tensorflow.keras.layers import MaxPooling2D\n",
        "from tensorflow.keras.layers import Flatten"
      ]
    },
    {
      "cell_type": "code",
      "execution_count": null,
      "id": "9f002c78",
      "metadata": {
        "id": "9f002c78"
      },
      "outputs": [],
      "source": [
        "from tensorflow.keras.preprocessing.image import ImageDataGenerator"
      ]
    },
    {
      "cell_type": "code",
      "execution_count": null,
      "id": "30c41e3e",
      "metadata": {
        "id": "30c41e3e"
      },
      "outputs": [],
      "source": [
        "train_datagen = ImageDataGenerator(rescale=1./255,shear_range=0.2,zoom_range=0.2,horizontal_flip=True,vertical_flip=True)"
      ]
    },
    {
      "cell_type": "code",
      "execution_count": null,
      "id": "e79891cc",
      "metadata": {
        "id": "e79891cc"
      },
      "outputs": [],
      "source": [
        "test_datagen = ImageDataGenerator(rescale=1./255)"
      ]
    },
    {
      "cell_type": "code",
      "execution_count": null,
      "id": "457c5512",
      "metadata": {
        "id": "457c5512",
        "outputId": "bca973cf-2afa-4bdf-c21d-b8946aa29745"
      },
      "outputs": [
        {
          "name": "stdout",
          "output_type": "stream",
          "text": [
            "Found 4317 images belonging to 5 classes.\n"
          ]
        }
      ],
      "source": [
        "x_train = train_datagen.flow_from_directory(r\"D:\\Dataset\\flowers\\Training\",target_size=(64,64),batch_size=32,class_mode=\"categorical\")"
      ]
    },
    {
      "cell_type": "code",
      "execution_count": null,
      "id": "fc70422c",
      "metadata": {
        "id": "fc70422c",
        "outputId": "4d59cbc1-e3cc-42ef-cc29-b54b1dbdf6e8"
      },
      "outputs": [
        {
          "name": "stdout",
          "output_type": "stream",
          "text": [
            "Found 4317 images belonging to 5 classes.\n"
          ]
        }
      ],
      "source": [
        "x_test = test_datagen.flow_from_directory(r\"D:\\Dataset\\flowers\\Testing\",target_size=(64,64),batch_size=32,class_mode = \"categorical\")"
      ]
    },
    {
      "cell_type": "code",
      "execution_count": null,
      "id": "4da409a8",
      "metadata": {
        "id": "4da409a8",
        "outputId": "657070fe-e76e-4047-b2d6-861a840d7128"
      },
      "outputs": [
        {
          "data": {
            "text/plain": [
              "{'daisy': 0, 'dandelion': 1, 'rose': 2, 'sunflower': 3, 'tulip': 4}"
            ]
          },
          "execution_count": 9,
          "metadata": {},
          "output_type": "execute_result"
        }
      ],
      "source": [
        "x_train.class_indices"
      ]
    },
    {
      "cell_type": "code",
      "execution_count": null,
      "id": "cf04f844",
      "metadata": {
        "id": "cf04f844"
      },
      "outputs": [],
      "source": [
        "model = Sequential()"
      ]
    },
    {
      "cell_type": "code",
      "execution_count": null,
      "id": "13f7797e",
      "metadata": {
        "id": "13f7797e"
      },
      "outputs": [],
      "source": [
        "model.add(Convolution2D(32,(3,3),input_shape=(64,64,3),activation='relu'))"
      ]
    },
    {
      "cell_type": "code",
      "execution_count": null,
      "id": "581dc27f",
      "metadata": {
        "id": "581dc27f"
      },
      "outputs": [],
      "source": [
        "model.add(MaxPooling2D(pool_size=(2,2)))"
      ]
    },
    {
      "cell_type": "code",
      "execution_count": null,
      "id": "65d53415",
      "metadata": {
        "id": "65d53415"
      },
      "outputs": [],
      "source": [
        "model.add(Flatten())"
      ]
    },
    {
      "cell_type": "code",
      "execution_count": null,
      "id": "254a3a31",
      "metadata": {
        "id": "254a3a31"
      },
      "outputs": [],
      "source": [
        "model.add(Dense(units=300,kernel_initializer=\"random_uniform\",activation=\"relu\"))"
      ]
    },
    {
      "cell_type": "code",
      "execution_count": null,
      "id": "06055db3",
      "metadata": {
        "id": "06055db3"
      },
      "outputs": [],
      "source": [
        "model.add(Dense(units=200,kernel_initializer=\"random_uniform\",activation=\"relu\"))"
      ]
    },
    {
      "cell_type": "code",
      "execution_count": null,
      "id": "0c601b22",
      "metadata": {
        "id": "0c601b22"
      },
      "outputs": [],
      "source": [
        "model.add(Dense(units=5,kernel_initializer=\"random_uniform\",activation=\"softmax\"))"
      ]
    },
    {
      "cell_type": "code",
      "execution_count": null,
      "id": "250fad0b",
      "metadata": {
        "id": "250fad0b"
      },
      "outputs": [],
      "source": [
        "model.compile(loss=\"categorical_crossentropy\",optimizer=\"adam\",metrics=[\"accuracy\"])"
      ]
    },
    {
      "cell_type": "code",
      "execution_count": null,
      "id": "ca2dcb1d",
      "metadata": {
        "id": "ca2dcb1d",
        "outputId": "641703cc-d918-4584-d3d8-9d57f91262fc"
      },
      "outputs": [
        {
          "name": "stderr",
          "output_type": "stream",
          "text": [
            "C:\\Users\\S.V.D.H.E.N.P\\AppData\\Local\\Temp\\ipykernel_91844\\3505885595.py:1: UserWarning: `Model.fit_generator` is deprecated and will be removed in a future version. Please use `Model.fit`, which supports generators.\n",
            "  model.fit_generator(x_train,steps_per_epoch=39,epochs=25,validation_data=x_test,validation_steps=10)\n"
          ]
        },
        {
          "name": "stdout",
          "output_type": "stream",
          "text": [
            "Epoch 1/25\n",
            "39/39 [==============================] - 41s 772ms/step - loss: 1.4446 - accuracy: 0.3438 - val_loss: 1.4007 - val_accuracy: 0.4125\n",
            "Epoch 2/25\n",
            "39/39 [==============================] - 25s 649ms/step - loss: 1.2575 - accuracy: 0.4426 - val_loss: 1.2572 - val_accuracy: 0.4500\n",
            "Epoch 3/25\n",
            "39/39 [==============================] - 23s 582ms/step - loss: 1.2013 - accuracy: 0.4867 - val_loss: 1.1840 - val_accuracy: 0.5094\n",
            "Epoch 4/25\n",
            "39/39 [==============================] - 21s 527ms/step - loss: 1.0973 - accuracy: 0.5361 - val_loss: 1.2075 - val_accuracy: 0.4906\n",
            "Epoch 5/25\n",
            "39/39 [==============================] - 19s 491ms/step - loss: 1.0953 - accuracy: 0.5296 - val_loss: 1.0235 - val_accuracy: 0.5938\n",
            "Epoch 6/25\n",
            "39/39 [==============================] - 19s 481ms/step - loss: 1.0592 - accuracy: 0.5873 - val_loss: 1.0561 - val_accuracy: 0.5625\n",
            "Epoch 7/25\n",
            "39/39 [==============================] - 16s 416ms/step - loss: 1.0648 - accuracy: 0.5743 - val_loss: 1.2361 - val_accuracy: 0.5500\n",
            "Epoch 8/25\n",
            "39/39 [==============================] - 17s 439ms/step - loss: 1.0192 - accuracy: 0.6026 - val_loss: 1.0726 - val_accuracy: 0.5688\n",
            "Epoch 9/25\n",
            "39/39 [==============================] - 17s 429ms/step - loss: 1.0565 - accuracy: 0.5817 - val_loss: 1.1160 - val_accuracy: 0.5312\n",
            "Epoch 10/25\n",
            "39/39 [==============================] - 16s 412ms/step - loss: 0.9856 - accuracy: 0.6082 - val_loss: 1.2276 - val_accuracy: 0.4969\n",
            "Epoch 11/25\n",
            "39/39 [==============================] - 16s 406ms/step - loss: 0.9817 - accuracy: 0.5968 - val_loss: 1.0653 - val_accuracy: 0.6000\n",
            "Epoch 12/25\n",
            "39/39 [==============================] - 16s 408ms/step - loss: 0.9348 - accuracy: 0.6514 - val_loss: 0.9196 - val_accuracy: 0.6313\n",
            "Epoch 13/25\n",
            "39/39 [==============================] - 15s 390ms/step - loss: 0.8876 - accuracy: 0.6474 - val_loss: 0.8719 - val_accuracy: 0.6750\n",
            "Epoch 14/25\n",
            "39/39 [==============================] - 15s 389ms/step - loss: 0.9038 - accuracy: 0.6450 - val_loss: 0.9047 - val_accuracy: 0.6562\n",
            "Epoch 15/25\n",
            "39/39 [==============================] - 16s 398ms/step - loss: 0.9064 - accuracy: 0.6434 - val_loss: 0.7802 - val_accuracy: 0.6969\n",
            "Epoch 16/25\n",
            "39/39 [==============================] - 15s 387ms/step - loss: 0.8594 - accuracy: 0.6827 - val_loss: 0.9983 - val_accuracy: 0.6219\n",
            "Epoch 17/25\n",
            "39/39 [==============================] - 14s 369ms/step - loss: 0.9175 - accuracy: 0.6530 - val_loss: 1.0273 - val_accuracy: 0.6062\n",
            "Epoch 18/25\n",
            "39/39 [==============================] - 14s 368ms/step - loss: 0.8942 - accuracy: 0.6635 - val_loss: 0.8612 - val_accuracy: 0.6719\n",
            "Epoch 19/25\n",
            "39/39 [==============================] - 15s 374ms/step - loss: 0.8763 - accuracy: 0.6731 - val_loss: 0.7874 - val_accuracy: 0.7031\n",
            "Epoch 20/25\n",
            "39/39 [==============================] - 14s 363ms/step - loss: 0.8364 - accuracy: 0.6956 - val_loss: 0.8431 - val_accuracy: 0.6469\n",
            "Epoch 21/25\n",
            "39/39 [==============================] - 15s 371ms/step - loss: 0.8235 - accuracy: 0.6899 - val_loss: 0.9080 - val_accuracy: 0.6375\n",
            "Epoch 22/25\n",
            "39/39 [==============================] - 14s 364ms/step - loss: 0.8146 - accuracy: 0.6867 - val_loss: 0.7422 - val_accuracy: 0.7000\n",
            "Epoch 23/25\n",
            "39/39 [==============================] - 15s 373ms/step - loss: 0.8174 - accuracy: 0.6972 - val_loss: 0.7344 - val_accuracy: 0.7188\n",
            "Epoch 24/25\n",
            "39/39 [==============================] - 14s 359ms/step - loss: 0.8173 - accuracy: 0.6835 - val_loss: 0.8216 - val_accuracy: 0.6438\n",
            "Epoch 25/25\n",
            "39/39 [==============================] - 14s 360ms/step - loss: 0.7858 - accuracy: 0.7100 - val_loss: 0.8219 - val_accuracy: 0.6750\n"
          ]
        },
        {
          "data": {
            "text/plain": [
              "<keras.callbacks.History at 0x188ae9f4d00>"
            ]
          },
          "execution_count": 23,
          "metadata": {},
          "output_type": "execute_result"
        }
      ],
      "source": [
        "model.fit_generator(x_train,steps_per_epoch=39,epochs=25,validation_data=x_test,validation_steps=10)"
      ]
    },
    {
      "cell_type": "code",
      "execution_count": null,
      "id": "f8e2caf3",
      "metadata": {
        "id": "f8e2caf3"
      },
      "outputs": [],
      "source": [
        "model.save(\"Flowers.h5\")"
      ]
    },
    {
      "cell_type": "code",
      "execution_count": null,
      "id": "4b3cfc68",
      "metadata": {
        "id": "4b3cfc68"
      },
      "outputs": [],
      "source": [
        "from tensorflow.keras.models import load_model"
      ]
    },
    {
      "cell_type": "code",
      "execution_count": null,
      "id": "b041d7cc",
      "metadata": {
        "id": "b041d7cc"
      },
      "outputs": [],
      "source": [
        "from tensorflow.keras.preprocessing import image"
      ]
    },
    {
      "cell_type": "code",
      "execution_count": null,
      "id": "87ae9f82",
      "metadata": {
        "id": "87ae9f82"
      },
      "outputs": [],
      "source": [
        "import numpy as np"
      ]
    },
    {
      "cell_type": "code",
      "execution_count": null,
      "id": "4ed7373a",
      "metadata": {
        "id": "4ed7373a"
      },
      "outputs": [],
      "source": [
        "model = load_model(\"Flowers.h5\")"
      ]
    },
    {
      "cell_type": "code",
      "execution_count": null,
      "id": "50e05b06",
      "metadata": {
        "id": "50e05b06"
      },
      "outputs": [],
      "source": [
        "img = image.load_img(r\"C:\\Users\\S.V.D.H.E.N.P\\Pictures\\Saved Pictures\\Daisy.jpg\",target_size=(64,64))"
      ]
    },
    {
      "cell_type": "code",
      "execution_count": null,
      "id": "e52eb154",
      "metadata": {
        "id": "e52eb154",
        "outputId": "448754cd-2609-473a-96f5-10d24089433c"
      },
      "outputs": [
        {
          "data": {
            "image/png": "[encoded data removed]",
            "text/plain": [
              "<PIL.Image.Image image mode=RGB size=64x64 at 0x1E4A2EBEA60>"
            ]
          },
          "execution_count": 6,
          "metadata": {},
          "output_type": "execute_result"
        }
      ],
      "source": [
        "img"
      ]
    },
    {
      "cell_type": "code",
      "execution_count": null,
      "id": "a912e68f",
      "metadata": {
        "id": "a912e68f",
        "outputId": "89ba3bdf-aa0d-4e59-8e5b-5d7267586a60"
      },
      "outputs": [
        {
          "data": {
            "text/plain": [
              "PIL.Image.Image"
            ]
          },
          "execution_count": 7,
          "metadata": {},
          "output_type": "execute_result"
        }
      ],
      "source": [
        "type(img)"
      ]
    },
    {
      "cell_type": "code",
      "execution_count": null,
      "id": "25628852",
      "metadata": {
        "id": "25628852"
      },
      "outputs": [],
      "source": [
        "x = image.img_to_array(img)"
      ]
    },
    {
      "cell_type": "code",
      "execution_count": null,
      "id": "aeea8583",
      "metadata": {
        "id": "aeea8583",
        "outputId": "ce84b91a-3d4c-4aa6-c090-da92bb5ee76b"
      },
      "outputs": [
        {
          "data": {
            "text/plain": [
              "array([[[0., 0., 0.],\n",
              "        [0., 0., 0.],\n",
              "        [0., 0., 0.],\n",
              "        ...,\n",
              "        [0., 0., 0.],\n",
              "        [0., 0., 0.],\n",
              "        [0., 0., 0.]],\n",
              "\n",
              "       [[0., 0., 0.],\n",
              "        [0., 0., 0.],\n",
              "        [0., 0., 0.],\n",
              "        ...,\n",
              "        [0., 0., 0.],\n",
              "        [0., 0., 0.],\n",
              "        [0., 0., 0.]],\n",
              "\n",
              "       [[0., 0., 0.],\n",
              "        [0., 0., 0.],\n",
              "        [0., 0., 0.],\n",
              "        ...,\n",
              "        [0., 0., 0.],\n",
              "        [0., 0., 0.],\n",
              "        [0., 0., 0.]],\n",
              "\n",
              "       ...,\n",
              "\n",
              "       [[0., 0., 0.],\n",
              "        [0., 0., 0.],\n",
              "        [1., 1., 1.],\n",
              "        ...,\n",
              "        [0., 0., 0.],\n",
              "        [0., 0., 0.],\n",
              "        [0., 0., 0.]],\n",
              "\n",
              "       [[0., 0., 0.],\n",
              "        [0., 0., 0.],\n",
              "        [0., 0., 0.],\n",
              "        ...,\n",
              "        [0., 0., 0.],\n",
              "        [0., 0., 0.],\n",
              "        [0., 0., 0.]],\n",
              "\n",
              "       [[1., 1., 1.],\n",
              "        [0., 0., 0.],\n",
              "        [0., 0., 0.],\n",
              "        ...,\n",
              "        [0., 0., 0.],\n",
              "        [0., 0., 0.],\n",
              "        [0., 0., 0.]]], dtype=float32)"
            ]
          },
          "execution_count": 9,
          "metadata": {},
          "output_type": "execute_result"
        }
      ],
      "source": [
        "x"
      ]
    },
    {
      "cell_type": "code",
      "execution_count": null,
      "id": "38aab9d8",
      "metadata": {
        "id": "38aab9d8",
        "outputId": "7e484701-b608-4331-f059-8643f62090fc"
      },
      "outputs": [
        {
          "data": {
            "text/plain": [
              "(64, 64, 3)"
            ]
          },
          "execution_count": 10,
          "metadata": {},
          "output_type": "execute_result"
        }
      ],
      "source": [
        "x.shape"
      ]
    },
    {
      "cell_type": "code",
      "execution_count": null,
      "id": "93ff3a89",
      "metadata": {
        "id": "93ff3a89"
      },
      "outputs": [],
      "source": [
        "x = np.expand_dims(x,axis=0)"
      ]
    },
    {
      "cell_type": "code",
      "execution_count": null,
      "id": "b66d60dd",
      "metadata": {
        "id": "b66d60dd",
        "outputId": "888f104f-bd10-40b8-8589-adbf31869a52"
      },
      "outputs": [
        {
          "data": {
            "text/plain": [
              "(1, 64, 64, 3)"
            ]
          },
          "execution_count": 12,
          "metadata": {},
          "output_type": "execute_result"
        }
      ],
      "source": [
        "x.shape"
      ]
    },
    {
      "cell_type": "code",
      "execution_count": null,
      "id": "f6355cb8",
      "metadata": {
        "id": "f6355cb8",
        "outputId": "0156ab3f-4f7b-467b-fe72-6d2f92c2420e"
      },
      "outputs": [
        {
          "name": "stdout",
          "output_type": "stream",
          "text": [
            "1/1 [==============================] - 0s 467ms/step\n"
          ]
        }
      ],
      "source": [
        "pred_prob = model.predict(x)"
      ]
    },
    {
      "cell_type": "code",
      "execution_count": null,
      "id": "867bca61",
      "metadata": {
        "id": "867bca61",
        "outputId": "658df2e1-ed41-4411-93ba-8d1bf426ab73"
      },
      "outputs": [
        {
          "data": {
            "text/plain": [
              "array([[1., 0., 0., 0., 0.]], dtype=float32)"
            ]
          },
          "execution_count": 14,
          "metadata": {},
          "output_type": "execute_result"
        }
      ],
      "source": [
        "pred_prob"
      ]
    },
    {
      "cell_type": "code",
      "execution_count": null,
      "id": "bef49c67",
      "metadata": {
        "id": "bef49c67"
      },
      "outputs": [],
      "source": [
        "class_name=[\"Daisy\",\"Dandelion\",\"Rose\",\"Sunflower\",\"Tulip\"]\n",
        "pred_id = pred_prob.argmax(axis = 1)[0]"
      ]
    },
    {
      "cell_type": "code",
      "execution_count": null,
      "id": "a5a24636",
      "metadata": {
        "id": "a5a24636",
        "outputId": "b1810bd9-cce1-42ba-befc-3426f15c9bfe"
      },
      "outputs": [
        {
          "data": {
            "text/plain": [
              "0"
            ]
          },
          "execution_count": 16,
          "metadata": {},
          "output_type": "execute_result"
        }
      ],
      "source": [
        "pred_id"
      ]
    },
    {
      "cell_type": "code",
      "execution_count": null,
      "id": "8757c2a0",
      "metadata": {
        "id": "8757c2a0",
        "outputId": "4e2cdb5d-5137-4174-c21b-eb6931c57062"
      },
      "outputs": [
        {
          "name": "stdout",
          "output_type": "stream",
          "text": [
            "Predicted Flower is  Daisy\n"
          ]
        }
      ],
      "source": [
        "print(\"Predicted Flower is \",str(class_name[pred_id]))"
      ]
    }
  ],
  "metadata": {
    "kernelspec": {
      "display_name": "Python 3 (ipykernel)",
      "language": "python",
      "name": "python3"
    },
    "language_info": {
      "codemirror_mode": {
        "name": "ipython",
        "version": 3
      },
      "file_extension": ".py",
      "mimetype": "text/x-python",
      "name": "python",
      "nbconvert_exporter": "python",
      "pygments_lexer": "ipython3",
      "version": "3.9.12"
    },
    "colab": {
      "provenance": []
    }
  },
  "nbformat": 4,
  "nbformat_minor": 5
}