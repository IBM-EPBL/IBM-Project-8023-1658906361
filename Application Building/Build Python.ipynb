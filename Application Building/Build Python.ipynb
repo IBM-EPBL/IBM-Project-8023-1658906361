{
  "nbformat": 4,
  "nbformat_minor": 0,
  "metadata": {
    "colab": {
      "provenance": []
    },
    "kernelspec": {
      "name": "python3",
      "display_name": "Python 3"
    },
    "language_info": {
      "name": "python"
    }
  },
  "cells": [
    {
      "cell_type": "code",
      "execution_count": 1,
      "metadata": {
        "colab": {
          "base_uri": "https://localhost:8080/",
          "height": 130
        },
        "id": "QZfEraoV6K4P",
        "outputId": "8f622fb2-d9a3-4584-c549-6146a18b6fa7"
      },
      "outputs": [
        {
          "output_type": "error",
          "ename": "SyntaxError",
          "evalue": "ignored",
          "traceback": [
            "\u001b[0;36m  File \u001b[0;32m\"<ipython-input-1-3c319bc9af3a>\"\u001b[0;36m, line \u001b[0;32m1\u001b[0m\n\u001b[0;31m    imort the imagedatagenerator library\u001b[0m\n\u001b[0m            ^\u001b[0m\n\u001b[0;31mSyntaxError\u001b[0m\u001b[0;31m:\u001b[0m invalid syntax\n"
          ]
        }
      ],
      "source": [
        "imort the imagedatagenerator library\n",
        "\n",
        "from keros.processing.image import imagedatagenerator\n",
        "\n",
        "image data agumentation\n",
        "#setting parameter for image data agumentation to the traing data\n",
        "\n",
        "train_datagen = Imagedatagenerator(rescale=1./255,shear_range=0.2,zoom_range=0.2,horizontal_flip=True)\n",
        "\n",
        "#Image data aumentation to the testing data\n",
        "\n",
        "test_datagen=Imagedatagenerator(rescale=1./255)\n",
        "\n",
        "loading our data and performing data agumentation\n",
        "\n",
        "#performing data agumentation to train data\n",
        "x_train = train_datagen.flow_from_directory('../data/train_set',target_size=(64,64),batch_size=5,color_mode='rgb',class_mode='categorical')\n",
        "\n",
        "#performing data agu,mentation to test data\n",
        "x_test = test_datagen.flow_from_directory('../data/test_set',target_size=(64,64),batch_size=5,color_mode='rgb',class_mode='categorical')\n",
        "\n",
        "Found 742 images belonging to 4 classes.\n",
        "Found 198 images belonging to 4 classes.\n",
        " "
      ]
    },
    {
      "cell_type": "code",
      "source": [],
      "metadata": {
        "id": "A-oS6q9Y6WOF"
      },
      "execution_count": null,
      "outputs": []
    }
  ]
}