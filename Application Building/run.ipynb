{
  "nbformat": 4,
  "nbformat_minor": 0,
  "metadata": {
    "colab": {
      "provenance": []
    },
    "kernelspec": {
      "name": "python3",
      "display_name": "Python 3"
    },
    "language_info": {
      "name": "python"
    }
  },
  "cells": [
    {
      "cell_type": "code",
      "execution_count": null,
      "metadata": {
        "id": "BGW2w5Ra70Tp"
      },
      "outputs": [],
      "source": [
        "if __name__ == \"__main__\":\n",
        "    \n",
        "    if len(sys.argv) >= 1:\n",
        "\n",
        "        get_info_parameters()\n",
        "            \n",
        "        \n",
        "    elif len(sys.argv) == 0:\n",
        "        \n",
        "        how_to_use()\n",
        "        \n",
        "    else:\n",
        "        \n",
        "        pass"
      ]
    }
  ]
}